{
 "cells": [
  {
   "cell_type": "markdown",
   "metadata": {},
   "source": [
    "1.A description of the problem and a discussion of the background."
   ]
  },
  {
   "cell_type": "markdown",
   "metadata": {},
   "source": [
    "Problem: what is the best place for kids restaurant"
   ]
  },
  {
   "cell_type": "markdown",
   "metadata": {},
   "source": [
    "Background:  \n",
    "I want to open a \"new restaurant for kids in gangnam district in seoul, south korea\". so I will find the place where many kids are playing . I will find the place where schools are crowed in gangnam district."
   ]
  },
  {
   "cell_type": "markdown",
   "metadata": {},
   "source": [
    "2.A description of the data and how it will be used to solve the problem."
   ]
  },
  {
   "cell_type": "markdown",
   "metadata": {},
   "source": [
    "Data: latitude and longitude data of schools in gangnam district in seoul, south korea. I will use four square's location data"
   ]
  },
  {
   "cell_type": "markdown",
   "metadata": {},
   "source": [
    "How: \n",
    "       (1) make ten condidate points (randomly chosen) in gangnam distruct.\n",
    "       (2) make 1 kilometer radius circle for each candidate point.\n",
    "       (3) calcuate how many schools are in each circle.\n",
    "       (4) find the circle which contains maximum schools. the center of that circle will be the best place for the restaurant."
   ]
  }
 ],
 "metadata": {
  "kernelspec": {
   "display_name": "Python 3",
   "language": "python",
   "name": "python3"
  },
  "language_info": {
   "codemirror_mode": {
    "name": "ipython",
    "version": 3
   },
   "file_extension": ".py",
   "mimetype": "text/x-python",
   "name": "python",
   "nbconvert_exporter": "python",
   "pygments_lexer": "ipython3",
   "version": "3.7.3"
  }
 },
 "nbformat": 4,
 "nbformat_minor": 2
}
