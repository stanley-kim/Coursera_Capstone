{
 "cells": [
  {
   "cell_type": "markdown",
   "metadata": {},
   "source": [
    "1.A description of the problem and a discussion of the background."
   ]
  },
  {
   "cell_type": "markdown",
   "metadata": {},
   "source": [
    "Problem: what is the best place for kids restaurant"
   ]
  },
  {
   "cell_type": "markdown",
   "metadata": {},
   "source": [
    "Background:  \n",
    "I want to open a \"new restaurant for kids in gangnam district in seoul, south korea\". so I will find the place where many kids are playing . I will find the place where schools are crowed in gangnam district."
   ]
  },
  {
   "cell_type": "markdown",
   "metadata": {},
   "source": [
    "2.A description of the data and how it will be used to solve the problem."
   ]
  },
  {
   "cell_type": "markdown",
   "metadata": {},
   "source": [
    "Data: latitude and longitude data of schools in gangnam district in seoul, south korea. I will use four square's location data"
   ]
  },
  {
   "cell_type": "markdown",
   "metadata": {},
   "source": [
    "How: \n",
    "       (1) make ten condidate points (randomly chosen) in gangnam distruct.\n",
    "       (2) make 1 kilometer radius circle for each candidate point.\n",
    "       (3) calcuate how many schools are in each circle.\n",
    "       (4) find the circle which contains maximum schools. the center of that circle will be the best place for the restaurant."
   ]
  },
  {
   "cell_type": "markdown",
   "metadata": {},
   "source": [
    "#week5\n",
    "1. A full report consisting of all of the following components \n",
    "(0) purpose: what is the best places for kid restraurant in kangnam district in seoul, in korea.\n",
    "(1)Introduction\n",
    " -I am living in kangnam district in seoul, korea. one of my neightbor was interested in kid restaurant business. so i prepared this project for him.    \n",
    "\n",
    "(2)data where you describe the data that will be used to solve the problem and the source of the data.\n",
    " -I  used foursqure's geographic data to find places where schools are concentrated.  \n",
    "\n",
    "(3)Methodology section \n",
    " I used brute force algorithm to find best place.\n",
    " firstly, I selected 25 candidate places randomly.\n",
    " and then used foursqure's API(api.foursquare.com/v2/venues/search) to calculated how many schools are close to candidate places.\n",
    " I could find best places (the place where most schools are close to)  \n",
    " \n",
    "(4) Results section where you discuss the results.\n",
    " -two places are good.  10 schools are close to them(within 500m)\n",
    "place0 latitude: 37.517886439865514   longtude: 127.0263715192932\n",
    "place1 latitude: 37.51719236175003    longtude: 127.02631642490377\n",
    "\n",
    "(5) Discussion section where you discuss any observations you noted and any recommendations you can make based on the results.\n",
    " -Conclusion section where you conclude the report.\n",
    "foursqure's API is easy but strong for the spatial analysis. so i can find best places for kid restaurant very efficiently.   "
   ]
  },
  {
   "cell_type": "code",
   "execution_count": 10,
   "metadata": {},
   "outputs": [
    {
     "name": "stderr",
     "output_type": "stream",
     "text": [
      "'conda'은(는) 내부 또는 외부 명령, 실행할 수 있는 프로그램, 또는\n",
      "배치 파일이 아닙니다.\n"
     ]
    },
    {
     "name": "stdout",
     "output_type": "stream",
     "text": [
      "Folium installed\n",
      "Libraries imported.\n"
     ]
    },
    {
     "name": "stderr",
     "output_type": "stream",
     "text": [
      "'conda'은(는) 내부 또는 외부 명령, 실행할 수 있는 프로그램, 또는\n",
      "배치 파일이 아닙니다.\n"
     ]
    }
   ],
   "source": [
    "#week5 codes\n",
    "import requests # library to handle requests\n",
    "import pandas as pd # library for data analsysis\n",
    "import numpy as np # library to handle data in a vectorized manner\n",
    "import random # library for random number generation\n",
    "\n",
    "!conda install -c conda-forge geopy --yes \n",
    "from geopy.geocoders import Nominatim # module to convert an address into latitude and longitude values\n",
    "\n",
    "# libraries for displaying images\n",
    "from IPython.display import Image \n",
    "from IPython.core.display import HTML \n",
    "    \n",
    "# tranforming json file into a pandas dataframe library\n",
    "from pandas.io.json import json_normalize\n",
    "\n",
    "!conda install -c conda-forge folium=0.5.0 --yes\n",
    "import folium # plotting library\n",
    "\n",
    "import random  \n",
    "\n",
    "print('Folium installed')\n",
    "print('Libraries imported.')"
   ]
  },
  {
   "cell_type": "code",
   "execution_count": 11,
   "metadata": {},
   "outputs": [
    {
     "name": "stdout",
     "output_type": "stream",
     "text": [
      "Your credentails:\n",
      "CLIENT_ID: 1WCWYWYW2VNJS4K4WFQBDEAWQ5VCFDZKHJAAZZJ3EFFYIMIX\n",
      "CLIENT_SECRET:5THR0KX03UUSP12T0IAX5UMHEKCVDHEPGO4FQF04PPUQ41IN\n"
     ]
    }
   ],
   "source": [
    "#prepare repeated query data\n",
    "CLIENT_ID = '1WCWYWYW2VNJS4K4WFQBDEAWQ5VCFDZKHJAAZZJ3EFFYIMIX' # your Foursquare ID\n",
    "CLIENT_SECRET = '5THR0KX03UUSP12T0IAX5UMHEKCVDHEPGO4FQF04PPUQ41IN' # your Foursquare Secret\n",
    "VERSION = '20180604'\n",
    "LIMIT = 30\n",
    "print('Your credentails:')\n",
    "print('CLIENT_ID: ' + CLIENT_ID)\n",
    "print('CLIENT_SECRET:' + CLIENT_SECRET)\n",
    "client_id=CLIENT_ID\n",
    "client_secret=CLIENT_SECRET\n",
    "version=VERSION\n",
    "limit=LIMIT"
   ]
  },
  {
   "cell_type": "code",
   "execution_count": 12,
   "metadata": {},
   "outputs": [
    {
     "name": "stdout",
     "output_type": "stream",
     "text": [
      "25\n"
     ]
    }
   ],
   "source": [
    "#prepare latitude and longitude data for 25 (randomly choosen) restaurant candidates\n",
    "latitude=[]\n",
    "longitude=[]\n",
    "lat_start = 37.5207\n",
    "lon_start = 127.0260\n",
    "for i in range(0,5):\n",
    "    for j in range(0,5):\n",
    "        latitude.append( lat_start-i*0.001+random.random()*0.0005 ) \n",
    "        longitude.append(lon_start+j*0.002+random.random()*0.0005 )\n",
    "\n",
    "total_size = len(latitude)     \n",
    "print(total_size)"
   ]
  },
  {
   "cell_type": "code",
   "execution_count": 35,
   "metadata": {
    "scrolled": true
   },
   "outputs": [
    {
     "name": "stdout",
     "output_type": "stream",
     "text": [
      "school .... OK!\n"
     ]
    }
   ],
   "source": [
    "#keyword is school \n",
    "search_query = 'school'\n",
    "#search diatemter is 1 kilometer\n",
    "radius = 500\n",
    "print(search_query + ' .... OK!')"
   ]
  },
  {
   "cell_type": "code",
   "execution_count": 36,
   "metadata": {},
   "outputs": [],
   "source": [
    "#make url for each restaurant candidate\n",
    "url=[]\n",
    "for i in range(0,total_size):\n",
    "    url.append(  'https://api.foursquare.com/v2/venues/search?client_id={}&client_secret={}&ll={},{}&v={}&query={}&radius={}&limit={}'.format(CLIENT_ID, CLIENT_SECRET, latitude[i], longitude[i], VERSION, search_query, radius, LIMIT))\n"
   ]
  },
  {
   "cell_type": "code",
   "execution_count": 37,
   "metadata": {},
   "outputs": [
    {
     "name": "stdout",
     "output_type": "stream",
     "text": [
      "schools=8      candidate latitude:37.5211865549168 longitude:127.02624483723909\n",
      "schools=6      candidate latitude:37.52083070093033 longitude:127.02823360791062\n",
      "schools=3      candidate latitude:37.52080575457454 longitude:127.03027764168766\n",
      "schools=4      candidate latitude:37.52103194523149 longitude:127.03228783011292\n",
      "schools=6      candidate latitude:37.52110088923871 longitude:127.03437511751463\n",
      "schools=9      candidate latitude:37.51975250888067 longitude:127.0264644596139\n",
      "schools=7      candidate latitude:37.52014036077475 longitude:127.02837145978481\n",
      "schools=5      candidate latitude:37.52007150287898 longitude:127.03012301934733\n",
      "schools=6      candidate latitude:37.519916511107205 longitude:127.0322755131162\n",
      "schools=5      candidate latitude:37.52005166628916 longitude:127.0340325284346\n",
      "schools=8      candidate latitude:37.518912216540436 longitude:127.02612919847938\n",
      "schools=7      candidate latitude:37.51904337445246 longitude:127.0281988414412\n",
      "schools=3      candidate latitude:37.519129203388765 longitude:127.03015936151354\n",
      "schools=4      candidate latitude:37.51870214848081 longitude:127.0322013289426\n",
      "schools=5      candidate latitude:37.518939913109726 longitude:127.03400725346431\n",
      "schools=10      candidate latitude:37.517886439865514 longitude:127.0263715192932\n",
      "schools=7      candidate latitude:37.51772005420875 longitude:127.02840681659357\n",
      "schools=4      candidate latitude:37.51793311032513 longitude:127.03001565249738\n",
      "schools=5      candidate latitude:37.51802456492766 longitude:127.03236153934627\n",
      "schools=6      candidate latitude:37.51809757678338 longitude:127.03431329529116\n",
      "schools=10      candidate latitude:37.51719236175003 longitude:127.02631642490377\n",
      "schools=6      candidate latitude:37.516793246180576 longitude:127.02816719335509\n",
      "schools=4      candidate latitude:37.51685456114997 longitude:127.03012778987446\n",
      "schools=5      candidate latitude:37.51707676158805 longitude:127.0322327650124\n",
      "schools=6      candidate latitude:37.51707673136788 longitude:127.03434869604834\n"
     ]
    }
   ],
   "source": [
    "#calculate how many schools are within 1km diameter of restanrant candidates\n",
    "results=[]\n",
    "max_value=0\n",
    "max_value_index=[0]\n",
    "for i in range(0, total_size):\n",
    "    results.append(  requests.get(url[i]).json()  )\n",
    "    venues = results[i]['response']['venues']\n",
    "    venues\n",
    "    dataframe = json_normalize(venues)\n",
    "    dataframe.head()\n",
    "    if( max_value<len(dataframe.index) ):\n",
    "        max_value = len(dataframe.index)\n",
    "        del max_value_index\n",
    "        max_value_index=[]\n",
    "        max_value_index.append(i)\n",
    "#        print(\"reset index=\"+ str(i))\n",
    "    elif (max_value==len(dataframe.index)):\n",
    "        max_value_index.append(i)        \n",
    "    print ( 'schools='+str( len(dataframe.index)) + \"      candidate latitude:\" + str( latitude[i]) + \" longitude:\" + str( longitude[i]) )"
   ]
  },
  {
   "cell_type": "code",
   "execution_count": 38,
   "metadata": {
    "scrolled": true
   },
   "outputs": [
    {
     "name": "stdout",
     "output_type": "stream",
     "text": [
      "max_value=10  best places:2\n",
      "37.517886439865514   127.0263715192932\n",
      "37.51719236175003   127.02631642490377\n"
     ]
    }
   ],
   "source": [
    "#final result\n",
    "#find best places for kid restaurant\n",
    "print('max_value='+str(max_value)+'  best places:' +str( len(max_value_index))  )\n",
    "for i in range(0,len(max_value_index) ) :\n",
    "    print( str ( latitude[ max_value_index[i]])+ \"   \"+ str ( longitude[ max_value_index[i]])  )"
   ]
  }
 ],
 "metadata": {
  "kernelspec": {
   "display_name": "Python 3",
   "language": "python",
   "name": "python3"
  },
  "language_info": {
   "codemirror_mode": {
    "name": "ipython",
    "version": 3
   },
   "file_extension": ".py",
   "mimetype": "text/x-python",
   "name": "python",
   "nbconvert_exporter": "python",
   "pygments_lexer": "ipython3",
   "version": "3.7.3"
  }
 },
 "nbformat": 4,
 "nbformat_minor": 2
}
