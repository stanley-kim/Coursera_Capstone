{
 "cells": [
  {
   "cell_type": "markdown",
   "metadata": {},
   "source": [
    "Background:  \n",
    "I want to open a \"new restaurant for kids in gangnam district in seoul, south korea\". so I will find the place where many kids are playing . I will find the place where schools are crowed in gangnam district."
   ]
  },
  {
   "cell_type": "markdown",
   "metadata": {},
   "source": [
    "2.A description of the data and how it will be used to solve the problem."
   ]
  },
  {
   "cell_type": "markdown",
   "metadata": {},
   "source": [
    "Data: latitude and longitude data of schools in gangnam district in seoul, south korea. I will use four square's location data"
   ]
  },
  {
   "cell_type": "markdown",
   "metadata": {},
   "source": [
    "How: \n",
    "       (1) make ten condidate points (randomly chosen) in gangnam distruct.\n",
    "       (2) make 1 kilometer radius circle for each candidate point.\n",
    "       (3) calcuate how many schools are in each circle.\n",
    "       (4) find the circle which contains maximum schools. the center of that circle will be the best place for the restaurant."
   ]
  },
  {
   "cell_type": "markdown",
   "metadata": {},
   "source": [
    "# week5\n",
    "# A full report consisting of all of the following components \n",
    "\n",
    "(0) purpose: what is the best places for kid restraurant in kangnam district in seoul, in korea.\n",
    "\n",
    "(1)Introduction\n",
    " -I am living in kangnam district in seoul, korea. one of my neightbor was interested in kid restaurant business. so i prepared this project for him.    \n",
    "\n",
    "(2)data where you describe the data that will be used to solve the problem and the source of the data.\n",
    " -I  used foursqure's geographic data to find places where schools are concentrated.  \n",
    "\n",
    "(3)Methodology section \n",
    " I used brute force algorithm to find best place.\n",
    " firstly, I selected 25 candidate places randomly.\n",
    " and then used foursqure's API(api.foursquare.com/v2/venues/search) to calculated how many schools are close to candidate places.\n",
    " I could find best places (the place where most schools are close to)  \n",
    " \n",
    "(4) Results section where you discuss the results.\n",
    " -two places are good.  10 schools are close to them(within 500m)\n",
    "place0 latitude: 37.517886439865514   longtude: 127.0263715192932\n",
    "place1 latitude: 37.51719236175003    longtude: 127.02631642490377\n",
    "\n",
    "(5) Discussion section where you discuss any observations you noted and any recommendations you can make based on the results.\n",
    " -Conclusion section where you conclude the report.\n",
    "foursqure's API is easy but strong for the spatial analysis. so i can find best places for kid restaurant very efficiently.   "
   ]
  },
  {
   "cell_type": "code",
   "execution_count": 1,
   "metadata": {},
   "outputs": [
    {
     "name": "stderr",
     "output_type": "stream",
     "text": [
      "'conda'은(는) 내부 또는 외부 명령, 실행할 수 있는 프로그램, 또는\n",
      "배치 파일이 아닙니다.\n",
      "'conda'은(는) 내부 또는 외부 명령, 실행할 수 있는 프로그램, 또는\n",
      "배치 파일이 아닙니다.\n"
     ]
    },
    {
     "name": "stdout",
     "output_type": "stream",
     "text": [
      "Folium installed\n",
      "Libraries imported.\n"
     ]
    }
   ],
   "source": [
    "#week5 codes\n",
    "import requests # library to handle requests\n",
    "import pandas as pd # library for data analsysis\n",
    "import numpy as np # library to handle data in a vectorized manner\n",
    "import random # library for random number generation\n",
    "\n",
    "!conda install -c conda-forge geopy --yes \n",
    "from geopy.geocoders import Nominatim # module to convert an address into latitude and longitude values\n",
    "\n",
    "# libraries for displaying images\n",
    "from IPython.display import Image \n",
    "from IPython.core.display import HTML \n",
    "    \n",
    "# tranforming json file into a pandas dataframe library\n",
    "from pandas.io.json import json_normalize\n",
    "\n",
    "!conda install -c conda-forge folium=0.5.0 --yes\n",
    "import folium # plotting library\n",
    "\n",
    "import random  \n",
    "\n",
    "print('Folium installed')\n",
    "print('Libraries imported.')"
   ]
  },
  {
   "cell_type": "code",
   "execution_count": 2,
   "metadata": {},
   "outputs": [
    {
     "name": "stdout",
     "output_type": "stream",
     "text": [
      "Your credentails:\n",
      "CLIENT_ID: 1WCWYWYW2VNJS4K4WFQBDEAWQ5VCFDZKHJAAZZJ3EFFYIMIX\n",
      "CLIENT_SECRET:5THR0KX03UUSP12T0IAX5UMHEKCVDHEPGO4FQF04PPUQ41IN\n"
     ]
    }
   ],
   "source": [
    "#prepare repeated query data\n",
    "CLIENT_ID = '1WCWYWYW2VNJS4K4WFQBDEAWQ5VCFDZKHJAAZZJ3EFFYIMIX' # your Foursquare ID\n",
    "CLIENT_SECRET = '5THR0KX03UUSP12T0IAX5UMHEKCVDHEPGO4FQF04PPUQ41IN' # your Foursquare Secret\n",
    "VERSION = '20180604'\n",
    "LIMIT = 30\n",
    "print('Your credentails:')\n",
    "print('CLIENT_ID: ' + CLIENT_ID)\n",
    "print('CLIENT_SECRET:' + CLIENT_SECRET)\n",
    "client_id=CLIENT_ID\n",
    "client_secret=CLIENT_SECRET\n",
    "version=VERSION\n",
    "limit=LIMIT"
   ]
  },
  {
   "cell_type": "code",
   "execution_count": 3,
   "metadata": {},
   "outputs": [
    {
     "name": "stdout",
     "output_type": "stream",
     "text": [
      "25\n"
     ]
    }
   ],
   "source": [
    "#prepare latitude and longitude data for 25 (randomly choosen) restaurant candidates\n",
    "latitude=[]\n",
    "longitude=[]\n",
    "lat_start = 37.5207\n",
    "lon_start = 127.0260\n",
    "for i in range(0,5):\n",
    "    for j in range(0,5):\n",
    "        latitude.append( lat_start-i*0.001+random.random()*0.0005 ) \n",
    "        longitude.append(lon_start+j*0.002+random.random()*0.0005 )\n",
    "\n",
    "total_size = len(latitude)     \n",
    "print(total_size)"
   ]
  },
  {
   "cell_type": "code",
   "execution_count": 4,
   "metadata": {
    "scrolled": true
   },
   "outputs": [
    {
     "name": "stdout",
     "output_type": "stream",
     "text": [
      "school .... OK!\n"
     ]
    }
   ],
   "source": [
    "#keyword is school \n",
    "search_query = 'school'\n",
    "#search diatemter is 1 kilometer\n",
    "radius = 500\n",
    "print(search_query + ' .... OK!')"
   ]
  },
  {
   "cell_type": "code",
   "execution_count": 5,
   "metadata": {},
   "outputs": [],
   "source": [
    "#make url for each restaurant candidate\n",
    "url=[]\n",
    "for i in range(0,total_size):\n",
    "    url.append(  'https://api.foursquare.com/v2/venues/search?client_id={}&client_secret={}&ll={},{}&v={}&query={}&radius={}&limit={}'.format(CLIENT_ID, CLIENT_SECRET, latitude[i], longitude[i], VERSION, search_query, radius, LIMIT))\n"
   ]
  },
  {
   "cell_type": "code",
   "execution_count": 6,
   "metadata": {},
   "outputs": [
    {
     "name": "stdout",
     "output_type": "stream",
     "text": [
      "schools=8      candidate latitude:37.5209952281683 longitude:127.02619579562439\n",
      "schools=6      candidate latitude:37.52116405528831 longitude:127.02837317184218\n",
      "schools=3      candidate latitude:37.52100012495459 longitude:127.03043281533131\n",
      "schools=4      candidate latitude:37.52103060857341 longitude:127.0322884138989\n",
      "schools=7      candidate latitude:37.520957354282274 longitude:127.03445174935595\n",
      "schools=8      candidate latitude:37.51985050163391 longitude:127.02628941505938\n",
      "schools=6      candidate latitude:37.519769917014436 longitude:127.02809060783707\n",
      "schools=5      candidate latitude:37.51993491277166 longitude:127.03025011679968\n",
      "schools=5      candidate latitude:37.51985552587978 longitude:127.03220391377761\n",
      "schools=4      candidate latitude:37.51984232311199 longitude:127.03412850635034\n",
      "schools=8      candidate latitude:37.51907559906177 longitude:127.02648152171781\n",
      "schools=7      candidate latitude:37.518737385505254 longitude:127.0281725303226\n",
      "schools=4      candidate latitude:37.51907602579742 longitude:127.03033206302449\n",
      "schools=5      candidate latitude:37.51916810275527 longitude:127.0322967978252\n",
      "schools=5      candidate latitude:37.519178193507216 longitude:127.03429159652934\n",
      "schools=9      candidate latitude:37.51773631827634 longitude:127.02607467723239\n",
      "schools=7      candidate latitude:37.517843308443034 longitude:127.02817118867108\n",
      "schools=6      candidate latitude:37.51807269519922 longitude:127.03035682407594\n",
      "schools=5      candidate latitude:37.51800120284214 longitude:127.03226526796716\n",
      "schools=6      candidate latitude:37.518008910341635 longitude:127.0342546875256\n",
      "schools=12      candidate latitude:37.51676335096894 longitude:127.0260185476052\n",
      "schools=6      candidate latitude:37.51699737020656 longitude:127.02805675407693\n",
      "schools=4      candidate latitude:37.51687349552193 longitude:127.03003832399098\n",
      "schools=5      candidate latitude:37.516797613493345 longitude:127.03201372638239\n",
      "schools=4      candidate latitude:37.51676722669216 longitude:127.0340507160179\n"
     ]
    }
   ],
   "source": [
    "#calculate how many schools are within 1km diameter of restanrant candidates\n",
    "results=[]\n",
    "max_value=0\n",
    "max_value_index=[0]\n",
    "for i in range(0, total_size):\n",
    "    results.append(  requests.get(url[i]).json()  )\n",
    "    venues = results[i]['response']['venues']\n",
    "    venues\n",
    "    dataframe = json_normalize(venues)\n",
    "    dataframe.head()\n",
    "    if( max_value<len(dataframe.index) ):\n",
    "        max_value = len(dataframe.index)\n",
    "        del max_value_index\n",
    "        max_value_index=[]\n",
    "        max_value_index.append(i)\n",
    "#        print(\"reset index=\"+ str(i))\n",
    "    elif (max_value==len(dataframe.index)):\n",
    "        max_value_index.append(i)        \n",
    "    print ( 'schools='+str( len(dataframe.index)) + \"      candidate latitude:\" + str( latitude[i]) + \" longitude:\" + str( longitude[i]) )"
   ]
  },
  {
   "cell_type": "code",
   "execution_count": 7,
   "metadata": {
    "scrolled": true
   },
   "outputs": [
    {
     "name": "stdout",
     "output_type": "stream",
     "text": [
      "max_value=12  best places:1\n",
      "37.51676335096894   127.0260185476052\n"
     ]
    }
   ],
   "source": [
    "#final result!!!\n",
    "#find best places for kid restaurant\n",
    "print('max_value='+str(max_value)+'  best places:' +str( len(max_value_index))  )\n",
    "for i in range(0,len(max_value_index) ) :\n",
    "    print( str ( latitude[ max_value_index[i]])+ \"   \"+ str ( longitude[ max_value_index[i]])  )"
   ]
  }
 ],
 "metadata": {
  "kernelspec": {
   "display_name": "Python 3",
   "language": "python",
   "name": "python3"
  },
  "language_info": {
   "codemirror_mode": {
    "name": "ipython",
    "version": 3
   },
   "file_extension": ".py",
   "mimetype": "text/x-python",
   "name": "python",
   "nbconvert_exporter": "python",
   "pygments_lexer": "ipython3",
   "version": "3.7.3"
  }
 },
 "nbformat": 4,
 "nbformat_minor": 2
}
