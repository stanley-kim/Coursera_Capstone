{
 "cells": [
  {
   "cell_type": "code",
   "execution_count": 65,
   "metadata": {},
   "outputs": [
    {
     "name": "stdout",
     "output_type": "stream",
     "text": [
      "(103, 3)\n"
     ]
    }
   ],
   "source": [
    "import pandas as pd\n",
    "file_name='https://en.wikipedia.org/wiki/List_of_postal_codes_of_Canada:_M'\n",
    "d=pd.read_html(file_name)\n",
    "df=d[0]\n",
    "df2= df[ df['Borough'] != \"Not assigned\" ]\n",
    "df2[ 'Neighbourhood' ][ df2[ 'Neighbourhood' ] == 'Not assigned'] = df2['Borough'] \n",
    "df3=df2.groupby([\"Postcode\", \"Borough\"],as_index=False)\n",
    "df4=df3['Neighbourhood'].apply(','.join)\n",
    "df5=df4.to_frame().reset_index()\n",
    "df5.columns=[\"Postcode\" , \"Borough\"  , 'Neighborhood']\n",
    "#df5.loc[60:90,:]\n",
    "print(df5.shape)"
   ]
  },
  {
   "cell_type": "code",
   "execution_count": 88,
   "metadata": {},
   "outputs": [
    {
     "name": "stdout",
     "output_type": "stream",
     "text": [
      "(103, 5)\n"
     ]
    }
   ],
   "source": [
    "file_name='http://cocl.us/Geospatial_data'\n",
    "df=pd.read_csv(file_name)\n",
    "df2=pd.merge(df5, df, left_on=\"Postcode\", right_on=\"Postal Code\")\n",
    "df3=df2.drop(['Postal Code'], axis=1)\n",
    "print(df3.shape)"
   ]
  }
 ],
 "metadata": {
  "kernelspec": {
   "display_name": "Python 3",
   "language": "python",
   "name": "python3"
  },
  "language_info": {
   "codemirror_mode": {
    "name": "ipython",
    "version": 3
   },
   "file_extension": ".py",
   "mimetype": "text/x-python",
   "name": "python",
   "nbconvert_exporter": "python",
   "pygments_lexer": "ipython3",
   "version": "3.7.3"
  }
 },
 "nbformat": 4,
 "nbformat_minor": 2
}
